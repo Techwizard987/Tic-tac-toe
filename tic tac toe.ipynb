{
 "cells": [
  {
   "cell_type": "code",
   "execution_count": 1,
   "metadata": {},
   "outputs": [],
   "source": [
    "# A tic tac toe using simple for loops"
   ]
  },
  {
   "cell_type": "code",
   "execution_count": 28,
   "metadata": {},
   "outputs": [
    {
     "name": "stdout",
     "output_type": "stream",
     "text": [
      " | | \n",
      "-----\n",
      " | | \n",
      "-----\n",
      " | | \n"
     ]
    }
   ],
   "source": [
    "#/ / 0\n",
    "#----1\n",
    "# / /2\n",
    "#----3\n",
    "#/ /4\n",
    "\n",
    "for row in range(5): #0,1,2,3,4\n",
    "    if row%2 == 0: #its even 0,2,4\n",
    "        for column in range(1,6): #column  in range 1 to not including 6(1,2,3,4,5)\n",
    "            if column%2 == 1: #no reminder or reminder 1 , or if its odd we will print a space\n",
    "                    #inside if statemnt 1 !=5, end sepration is nothing we print it to next line\n",
    "                if column !=5 :\n",
    "                    print(\" \", end = \"\")\n",
    "                else:\n",
    "                    print(\" \") # col having value 5 we print new line\n",
    "            else:\n",
    "                print(\"|\", end = \"\") # if not odd we will print vertical line \n",
    "                \n",
    "            \n",
    "            \n",
    "       # print(\"| |\")\n",
    "        #   \"1 (colm 1)2(col2)3(col3)4(col 4)5(col5)\"\n",
    "    else:\n",
    "        print(\"-----\") # 5 dash line to act as seperator\n",
    "        \n",
    "        \n",
    "        "
   ]
  },
  {
   "cell_type": "code",
   "execution_count": null,
   "metadata": {},
   "outputs": [],
   "source": [
    "\n",
    "                "
   ]
  }
 ],
 "metadata": {
  "kernelspec": {
   "display_name": "Python 3",
   "language": "python",
   "name": "python3"
  },
  "language_info": {
   "codemirror_mode": {
    "name": "ipython",
    "version": 3
   },
   "file_extension": ".py",
   "mimetype": "text/x-python",
   "name": "python",
   "nbconvert_exporter": "python",
   "pygments_lexer": "ipython3",
   "version": "3.8.3"
  }
 },
 "nbformat": 4,
 "nbformat_minor": 4
}
